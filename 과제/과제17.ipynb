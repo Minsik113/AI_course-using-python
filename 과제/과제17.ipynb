{
 "cells": [
  {
   "cell_type": "code",
   "execution_count": 3,
   "id": "9faa2bd4",
   "metadata": {},
   "outputs": [],
   "source": [
    "# 클릭해서 이동할 때는 selenium\n",
    "# url link를 수집해서 이동할때는 BeautifulSoup\n",
    "\n",
    "import selenium\n",
    "from selenium import webdriver\n",
    "from selenium.webdriver.common.keys import Keys\n",
    "import time\n",
    "import requests\n",
    "import re\n",
    "import pyperclip\n"
   ]
  },
  {
   "cell_type": "code",
   "execution_count": 40,
   "id": "20724d00",
   "metadata": {},
   "outputs": [],
   "source": [
    "URL = 'https://order.pay.naver.com/home'\n",
    "driver = webdriver.Chrome('C:/py_data/driver/chromedriver.exe')\n",
    "driver.get(url=URL)\n",
    "time.sleep(3)"
   ]
  },
  {
   "cell_type": "code",
   "execution_count": 41,
   "id": "cf52c9b2",
   "metadata": {},
   "outputs": [],
   "source": [
    "# 옵션클릭\n",
    "uid = \"alstlr6883\"\n",
    "upw = \"alstlr1!\"\n",
    "tag_id = driver.find_element_by_id('id')\n",
    "tag_pw = driver.find_element_by_id('pw')\n",
    "tag_id.clear()\n",
    "\n",
    "pyperclip.copy(uid)\n",
    "tag_id.send_keys(Keys.CONTROL, 'v')\n",
    "time.sleep(1)\n",
    "\n",
    "pyperclip.copy(upw)\n",
    "tag_pw.send_keys(Keys.CONTROL, 'v')\n",
    "time.sleep(1)\n",
    "\n",
    "driver.find_element_by_id('log.login').click()\n",
    "time.sleep(2)\n"
   ]
  },
  {
   "cell_type": "code",
   "execution_count": 44,
   "id": "154e66fa",
   "metadata": {},
   "outputs": [],
   "source": [
    "# .goods_info .name\n",
    "# driver.find_element_by_css_selector('.viewmore_btn_section .button_viewmore').text()\n",
    "\n",
    "# 더보기 클릭\n",
    "for i in range(2):\n",
    "    driver.find_element_by_id('_moreButton').click()\n",
    "    time.sleep(1)\n"
   ]
  },
  {
   "cell_type": "code",
   "execution_count": 49,
   "id": "bf45897d",
   "metadata": {},
   "outputs": [
    {
     "name": "stdout",
     "output_type": "stream",
     "text": [
      "SQL 자격증 개발자 SQLD 자격증 책 기출 시험 기출문제 / 이기적 이론서+문제집\n",
      "지원홈쇼핑 2021 클린샤워 프리미엄 골드 때혁명1+1 62종 124종\n",
      "볼렌데트 악력기 카운터 논슬립 무소음 공무원 경찰 소방 시험 강도 조절\n",
      "보아르 에이블 초고속 진공 블렌더 가정용 대용량 맛남의광장 수박에이드 믹서기\n",
      "뉴트리원 정우성 어골칼슘 마그네슘 비타민D 3박스 3개월분 영국산 아연 뼈건강 관절 쏙쏙\n",
      "CELL TI GOLD(60C)\n",
      "메디힐 마스크팩 티트리 비타 태반 콜라겐 NMF WHP 탱글석류\n",
      "메디힐 마스크팩 티트리 비타 태반 콜라겐 NMF WHP 탱글석류\n",
      "메디힐 마스크팩 티트리 비타 태반 콜라겐 NMF WHP 탱글석류\n",
      "메디힐 마스크팩 티트리 비타 태반 콜라겐 NMF WHP 탱글석류\n",
      "메디힐 마스크팩 티트리 비타 태반 콜라겐 NMF WHP 탱글석류\n",
      "미스미네랄치약3개 msm치약\n",
      "광동 옥수수수염차 500ml x 20개입\n",
      "핵심 문법과 예제로 배우는 코틀린 책 이난주 로드북\n",
      "광동 옥수수수염차 500ml x 20개입\n",
      "[3개세트 오늘할인!] 바이오더마 아토덤 립스틱 립밤 4g X 3개 (국내발송, 2022년유통기한, 사은품, 증정품, 선물용, 답례품, 도매)\n",
      "마이닭 스팀 슬라이스 닭가슴살 150g 7종\n",
      "마이닭 스팀 슬라이스 닭가슴살 150g 7종\n",
      "마이닭 스팀 슬라이스 닭가슴살 150g 7종\n",
      "마이닭 스팀 슬라이스 닭가슴살 150g 7종\n",
      "마이닭 스팀 슬라이스 닭가슴살 150g 7종\n",
      "마이닭 스팀 슬라이스 닭가슴살 150g 7종\n",
      "마이닭 스팀 슬라이스 닭가슴살 150g 7종\n",
      "마이닭 스팀 닭가슴살 100g 3종 1팩\n",
      "마이닭 스팀 닭가슴살 100g 3종 1팩\n",
      "마이닭 스팀 닭가슴살 100g 3종 1팩\n",
      "국산 치간칫솔 50p 일회용치실 600p 포장제거 초저가\n",
      "국산 치간칫솔 50p 일회용치실 600p 포장제거 초저가\n",
      "헤로우 스쿼시 라켓 라님웰릴리 Raneem El Weleily custom\n",
      "밑바닥부터 시작하는 딥러닝 파이썬으로 익히는 딥러닝 이론과 구현 (한빛미디어책)\n",
      "일본 정품 공식판매점 히로사 규조토 발매트(대) L 사이즈 3종 택1 욕실매트 집들이 선물\n",
      "1M\n",
      "무선성능 종결자 아이피타임 N704BCM 유무선 공유기 802.11AC 무선 4포트\n",
      "국산 치간칫솔 50p 일회용치실 600p 포장제거 초저가\n"
     ]
    }
   ],
   "source": [
    "# 1. selenium으로 고름\n",
    "item_list = driver.find_elements_by_css_selector('.goods_pay_item .goods_item .goods_info .goods .name')\n",
    "for item in item_list:\n",
    "    print(item.text)\n"
   ]
  },
  {
   "cell_type": "code",
   "execution_count": 52,
   "id": "34199b44",
   "metadata": {},
   "outputs": [
    {
     "name": "stdout",
     "output_type": "stream",
     "text": [
      "SQL 자격증 개발자 SQLD 자격증 책 기출 시험 기출문제 / 이기적 이론서+문제집\n",
      "지원홈쇼핑 2021 클린샤워 프리미엄 골드 때혁명1+1 62종 124종\n",
      "볼렌데트 악력기 카운터 논슬립 무소음 공무원 경찰 소방 시험 강도 조절\n",
      "보아르 에이블 초고속 진공 블렌더 가정용 대용량 맛남의광장 수박에이드 믹서기\n",
      "뉴트리원 정우성 어골칼슘 마그네슘 비타민D 3박스 3개월분 영국산 아연 뼈건강 관절 쏙쏙\n",
      "CELL TI GOLD(60C)\n",
      "메디힐 마스크팩 티트리 비타 태반 콜라겐 NMF WHP 탱글석류\n",
      "메디힐 마스크팩 티트리 비타 태반 콜라겐 NMF WHP 탱글석류\n",
      "메디힐 마스크팩 티트리 비타 태반 콜라겐 NMF WHP 탱글석류\n",
      "메디힐 마스크팩 티트리 비타 태반 콜라겐 NMF WHP 탱글석류\n",
      "메디힐 마스크팩 티트리 비타 태반 콜라겐 NMF WHP 탱글석류\n",
      "미스미네랄치약3개 msm치약\n",
      "광동 옥수수수염차 500ml x 20개입\n",
      "핵심 문법과 예제로 배우는 코틀린 책 이난주 로드북\n",
      "광동 옥수수수염차 500ml x 20개입\n",
      "[3개세트 오늘할인!] 바이오더마 아토덤 립스틱 립밤 4g X 3개 (국내발송, 2022년유통기한, 사은품, 증정품, 선물용, 답례품, 도매)\n",
      "마이닭 스팀 슬라이스 닭가슴살 150g 7종\n",
      "마이닭 스팀 슬라이스 닭가슴살 150g 7종\n",
      "마이닭 스팀 슬라이스 닭가슴살 150g 7종\n",
      "마이닭 스팀 슬라이스 닭가슴살 150g 7종\n",
      "마이닭 스팀 슬라이스 닭가슴살 150g 7종\n",
      "마이닭 스팀 슬라이스 닭가슴살 150g 7종\n",
      "마이닭 스팀 슬라이스 닭가슴살 150g 7종\n",
      "마이닭 스팀 닭가슴살 100g 3종 1팩\n",
      "마이닭 스팀 닭가슴살 100g 3종 1팩\n",
      "마이닭 스팀 닭가슴살 100g 3종 1팩\n",
      "국산 치간칫솔 50p 일회용치실 600p 포장제거 초저가\n",
      "국산 치간칫솔 50p 일회용치실 600p 포장제거 초저가\n",
      "헤로우 스쿼시 라켓 라님웰릴리 Raneem  El Weleily custom\n",
      "밑바닥부터 시작하는 딥러닝   파이썬으로 익히는 딥러닝 이론과 구현 (한빛미디어책)\n",
      "일본 정품 공식판매점 히로사 규조토 발매트(대) L 사이즈 3종 택1 욕실매트 집들이 선물\n",
      "1M\n",
      "무선성능 종결자 아이피타임 N704BCM 유무선 공유기 802.11AC 무선 4포트\n",
      "국산 치간칫솔 50p 일회용치실 600p 포장제거 초저가\n"
     ]
    }
   ],
   "source": [
    "# 2. beautiful soup로 고름\n",
    "from bs4 import BeautifulSoup\n",
    "html = driver.page_source\n",
    "soup = BeautifulSoup(html, 'html.parser')\n",
    "item_list = soup.select('.goods_pay_item .goods_item .goods_info .goods .name')\n",
    "#print(item_list)\n",
    "for item in item_list:\n",
    "    item_name = item.get_text()\n",
    "    item_name = item_name.replace('네이버플러스 멤버십','')\n",
    "    item_name = item_name.replace('포인트플러스','') \n",
    "    item_name = item_name.replace('\\t','')\n",
    "    item_name = item_name.replace('\\n','')\n",
    "    print(item_name)\n"
   ]
  }
 ],
 "metadata": {
  "kernelspec": {
   "display_name": "Python 3",
   "language": "python",
   "name": "python3"
  },
  "language_info": {
   "codemirror_mode": {
    "name": "ipython",
    "version": 3
   },
   "file_extension": ".py",
   "mimetype": "text/x-python",
   "name": "python",
   "nbconvert_exporter": "python",
   "pygments_lexer": "ipython3",
   "version": "3.8.8"
  }
 },
 "nbformat": 4,
 "nbformat_minor": 5
}
