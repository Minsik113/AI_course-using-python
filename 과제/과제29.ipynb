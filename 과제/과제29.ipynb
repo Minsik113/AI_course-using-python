{
 "cells": [
  {
   "cell_type": "markdown",
   "id": "0fd00575",
   "metadata": {},
   "source": [
    "# 1번. O(N) - dict사용\n",
    "\n",
    "# 2번. O(N^2) - for문안에 count()"
   ]
  },
  {
   "cell_type": "markdown",
   "id": "f5a84226",
   "metadata": {},
   "source": [
    "## 1번. O(N)"
   ]
  },
  {
   "cell_type": "code",
   "execution_count": 1,
   "id": "7f2a56e1",
   "metadata": {},
   "outputs": [],
   "source": [
    "import time\n",
    "def dict_ngram(s, num):\n",
    "    res = dict()\n",
    "    slen = len(s) - num + 1 # 문장의 길이\n",
    "    for i in range(slen):\n",
    "        ss = s[i:i+num]\n",
    "        \n",
    "        if ss not in res:\n",
    "            res[ss] = 1\n",
    "        else:\n",
    "            res[ss] += 1\n",
    "   \n",
    "    return res\n",
    "\n",
    "def diff_ngram2(sa, sb, num):\n",
    "    # -------- START TIME --------\n",
    "    start_time = time.time()\n",
    "    a = dict_ngram(sa, num)\n",
    "    b = dict_ngram(sb, num)\n",
    "    dict_cnt = dict()\n",
    "    cnt = 0\n",
    "\n",
    "    for item_a in a.keys():\n",
    "        if item_a in b:\n",
    "            dict_cnt[item_a] = b[item_a]\n",
    "    # -------- END TIME --------\n",
    "    end_time = time.time()\n",
    "\n",
    "    print(dict_cnt)\n",
    "    print('시작 시간: {}'.format(start_time))\n",
    "    print('끝나는 시간: {}'.format(end_time))\n",
    "    print('시간 차이: {}'.format(end_time - start_time))\n",
    "    "
   ]
  },
  {
   "cell_type": "code",
   "execution_count": 2,
   "id": "26009731",
   "metadata": {},
   "outputs": [
    {
     "name": "stdout",
     "output_type": "stream",
     "text": [
      "{' 강': 100, '강남': 200, '남에': 100, '에서': 100, '서 ': 100, ' 맛': 100, '맛있': 100, '있는': 100, '는 ': 100, ' 스': 100, '스파': 100, '파게': 100, '게티': 100, '티를': 100, '를 ': 100, ' 먹': 100, '먹었': 100, '었다': 100, '다.': 100}\n",
      "시작 시간: 1627011376.0130992\n",
      "끝나는 시간: 1627011376.0150933\n",
      "시간 차이: 0.0019941329956054688\n"
     ]
    }
   ],
   "source": [
    "a = '오늘 강남에서 맛있는 스파게티를 먹었다.' * 100\n",
    "b = '강남에서 맛있는 강남 스파게티를 먹었다.' * 100\n",
    "# b = '강남에서 맛있는 강남 스파게티를 먹었다.'\n",
    "diff_ngram2(a,b,2)\n"
   ]
  },
  {
   "cell_type": "markdown",
   "id": "65ae0b3a",
   "metadata": {},
   "source": [
    "## 2번 O(N^2)"
   ]
  },
  {
   "cell_type": "code",
   "execution_count": 3,
   "id": "85b36e55",
   "metadata": {},
   "outputs": [],
   "source": [
    "import time\n",
    "def ngram(s, num):\n",
    "    res = []\n",
    "    slen = len(s) - num + 1 # 문장의 길이\n",
    "    for i in range(slen):\n",
    "        ss = s[i:i+num]\n",
    "        res.append(ss)\n",
    "    return res\n",
    "\n",
    "def diff_ngram(sa, sb, num):\n",
    "    start_time = time.time()\n",
    "    a = ngram(sa, num)\n",
    "    b = ngram(sb, num)\n",
    "    r = []\n",
    "    cnt = 0\n",
    "    \n",
    "    # O(n^2)\n",
    "    for w in a: #O(n)\n",
    "        t = b.count(w) #O(n) \n",
    "        if t:\n",
    "            cnt += t\n",
    "            r.append(w)\n",
    "    end_time = time.time()\n",
    "    print('시작 시간: {}'.format(start_time))\n",
    "    print('끝나는 시간: {}'.format(end_time))\n",
    "    print('시간 차이: {}'.format(end_time - start_time))\n",
    "        "
   ]
  },
  {
   "cell_type": "code",
   "execution_count": 4,
   "id": "f6ab5946",
   "metadata": {},
   "outputs": [
    {
     "name": "stdout",
     "output_type": "stream",
     "text": [
      "시작 시간: 1627011384.758787\n",
      "끝나는 시간: 1627011384.8320587\n",
      "시간 차이: 0.0732717514038086\n"
     ]
    }
   ],
   "source": [
    "a = '오늘 강남에서 맛있는 스파게티를 먹었다.' * 100\n",
    "b = '강남에서 맛있는 강남 스파게티를 먹었다.' * 100\n",
    "# b = '강남에서 맛있는 강남 스파게티를 먹었다.'\n",
    "diff_ngram(a,b,2)\n"
   ]
  }
 ],
 "metadata": {
  "kernelspec": {
   "display_name": "Python 3",
   "language": "python",
   "name": "python3"
  },
  "language_info": {
   "codemirror_mode": {
    "name": "ipython",
    "version": 3
   },
   "file_extension": ".py",
   "mimetype": "text/x-python",
   "name": "python",
   "nbconvert_exporter": "python",
   "pygments_lexer": "ipython3",
   "version": "3.8.8"
  }
 },
 "nbformat": 4,
 "nbformat_minor": 5
}
