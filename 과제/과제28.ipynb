{
 "cells": [
  {
   "cell_type": "markdown",
   "id": "a18f76a4",
   "metadata": {},
   "source": [
    "# 과제 28"
   ]
  },
  {
   "cell_type": "code",
   "execution_count": null,
   "id": "d6dac763",
   "metadata": {},
   "outputs": [],
   "source": [
    "import pandas as pd\n",
    "import os\n",
    "print(os.getcwd())\n",
    "train_df = pd.read_csv('/py_data/ratings_train.txt',sep='\\t')\n",
    "train_df.head(3)"
   ]
  },
  {
   "cell_type": "markdown",
   "id": "6c2c953d",
   "metadata": {},
   "source": [
    "### label의 분포 확인 - 1=긍정 0=부정"
   ]
  },
  {
   "cell_type": "code",
   "execution_count": null,
   "id": "005a8768",
   "metadata": {},
   "outputs": [],
   "source": [
    "train_df['label'].value_counts()\n",
    "# 분포가 비슷하다. "
   ]
  },
  {
   "cell_type": "markdown",
   "id": "7f66c4b3",
   "metadata": {},
   "source": [
    "## null확인 - document에 5개의 null존재"
   ]
  },
  {
   "cell_type": "code",
   "execution_count": null,
   "id": "cd3b6606",
   "metadata": {},
   "outputs": [],
   "source": [
    "train_df.isnull().sum()"
   ]
  },
  {
   "cell_type": "code",
   "execution_count": null,
   "id": "a3e5a4b3",
   "metadata": {},
   "outputs": [],
   "source": [
    "import re\n",
    "\n",
    "train_df = train_df.fillna(' ') # null -> ' '으로 채우기\n",
    "# 정규 표현식을 이용해 숫자를 공백으로 변경\n",
    "train_df['document'] = train_df['document'].apply(lambda x: re.sub(r\"\\d+\",\" \", x)) \n",
    "\n",
    "# 테스트 데이터 세트를 로딩. Null 및 숫자를 공백으로 변환\n",
    "test_df = pd.read_csv('/py_data/ratings_test.txt',sep='\\t')\n",
    "test_df = test_df.fillna(' ')\n",
    "test_df['document'] = test_df['document'].apply(lambda x: re.sub(r\"\\d+\",\" \", x)) \n",
    "\n",
    "# id 칼럼 삭제 수행\n",
    "#inplace 는 inplace = True 인 경우 DataFrame 이 제자리에서 수정되도록 지정하고, 그렇지 않으면 원래 DataFrame 이 수정되지 않은 상태로 새 DataFrame 을 반환합니다.\n",
    "train_df.drop('id',axis=1, inplace=True)\n",
    "test_df.drop('id',axis=1, inplace=True)"
   ]
  },
  {
   "cell_type": "markdown",
   "id": "416def2e",
   "metadata": {},
   "source": [
    "## TF-IDF 방식으로 단어를 벡터화\n",
    "\n",
    "한글 형태소 엔진은 twitter 클래스 이용"
   ]
  },
  {
   "cell_type": "code",
   "execution_count": null,
   "id": "e9c21b52",
   "metadata": {},
   "outputs": [],
   "source": [
    "from konlpy.tag import Twitter\n",
    "\n",
    "twitter = Twitter()\n",
    "def tw_tokenizer(text):\n",
    "    # text를 형태소 단어로 토큰화 -> 리스트 형태로 반환\n",
    "    tokens_ko = twitter.morphs(text)\n",
    "    return tokens_ko"
   ]
  },
  {
   "cell_type": "markdown",
   "id": "94821875",
   "metadata": {},
   "source": [
    "사이킷런의 TfidfVectorizer를 이용해 TF-IDF 피처 모델을 생성하자"
   ]
  },
  {
   "cell_type": "code",
   "execution_count": null,
   "id": "4759f6c6",
   "metadata": {},
   "outputs": [],
   "source": [
    "from sklearn.feature_extraction.text import TfidfVectorizer\n",
    "from sklearn.linear_model import LogisticRegression\n",
    "from sklearn.model_selection import GridSearchCV\n",
    "\n",
    "# Twitter객체의 morphs() 객체를 이용한 tokenizer를 사용. ngram_range = (1,2)\n",
    "# ngram_range = (1, 2)라고 한다면, 단어의 묶음을 1개부터 2개까지 설정하라는 뜻입니다.\n",
    "# 단어사전에는 1개 단어묶음도 있고, 2개 단어묶음도 존재하게 되겠죠.\n",
    "tfidf_vect = TfidfVectorizer(tokenizer=tw_tokenizer, ngram_range=(1,2), min_df=3, max_df=0.9)\n",
    "tfidf_vect.fit(train_df['document'])\n",
    "tfidf_matrix_train = tfidf_vect.transform(train_df['document'])"
   ]
  },
  {
   "cell_type": "code",
   "execution_count": null,
   "id": "b47c6a25",
   "metadata": {},
   "outputs": [],
   "source": [
    "#로지스틱 회귀를 이용해 감성 분석 분류 수행.\n",
    "#random_state =  데이터 섞을 때 사용하는 랜덤 번호 생성기의 시드값\n",
    "lg_clf = LogisticRegression(random_state=0)\n",
    "\n",
    "# 파라미터 C 최적화를 위해 GridSearchCV를 이용\n",
    "params = {\n",
    "    'C' : [1, 3.5, 4.5, 5.5, 10]\n",
    "}\n",
    "\n",
    "# GridSearchCV 란?\n",
    "# 사이킷런에서는 분류 알고리즘이나 회귀 알고리즘에 사용되는 하이퍼파라미터를 순차적으로 입력해 학습을 하고 측정을 하면서 가장 좋은 파라미터를 알려준다.\n",
    "grid_cv = GridSearchCV(lg_clf, param_grid=params, cv=3, scoring='accuracy',verbose=1)\n",
    "grid_cv.fit(tfidf_matrix_train, train_df['label'])\n",
    "'''\n",
    "- best_params_dict\n",
    "Parameter setting that gave the best results on the hold out data.\n",
    "For multi-metric evaluation, this is present only if refit is specified\n",
    "\n",
    "- best_score_float\n",
    "Mean cross-validated score of the best_estimator\n",
    "For multi-metric evaluation, this is present only if refit is specified.\n",
    "This attribute is not available if refit is a function.\n",
    "'''\n",
    "\n",
    "print(grid_cv.best_params_, round(grid_cv.best_score_, 4))\n"
   ]
  },
  {
   "cell_type": "code",
   "execution_count": null,
   "id": "c6207a12",
   "metadata": {},
   "outputs": [],
   "source": [
    "from sklearn.metrics import accuracy_score\n",
    "\n",
    "# 학습 데이터를 적용한 TfidfVctorizer를 이용해 테스트 데이터를 TF-IDF 값으오 피처 변환함.\n",
    "tfidf_matrix_test = tfidf_vect.transform(test_df['document'])\n",
    "# classifier는 GridSearchCV에서 최적 파라미터로 학습된 classifier를 그대로 이용\n",
    "best_extimator = grid_cv.best_estimator_\n",
    "preds = best_estimator.predict(tfidf_matrix_test)\n",
    "\n",
    "print('Logistic Regression 정확도: {}'.format(accuracy_score(test_df['label'],preds)))"
   ]
  }
 ],
 "metadata": {
  "kernelspec": {
   "display_name": "Python 3",
   "language": "python",
   "name": "python3"
  },
  "language_info": {
   "codemirror_mode": {
    "name": "ipython",
    "version": 3
   },
   "file_extension": ".py",
   "mimetype": "text/x-python",
   "name": "python",
   "nbconvert_exporter": "python",
   "pygments_lexer": "ipython3",
   "version": "3.8.8"
  }
 },
 "nbformat": 4,
 "nbformat_minor": 5
}
