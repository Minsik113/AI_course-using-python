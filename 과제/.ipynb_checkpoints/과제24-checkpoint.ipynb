{
 "cells": [
  {
   "cell_type": "markdown",
   "id": "a95807bc",
   "metadata": {},
   "source": [
    "# 사용자 행동 인식 데이터를 결정트리를 적용해 모델링하기"
   ]
  },
  {
   "cell_type": "code",
   "execution_count": null,
   "id": "f0ae523e",
   "metadata": {},
   "outputs": [],
   "source": []
  }
 ],
 "metadata": {
  "kernelspec": {
   "display_name": "Python 3",
   "language": "python",
   "name": "python3"
  },
  "language_info": {
   "codemirror_mode": {
    "name": "ipython",
    "version": 3
   },
   "file_extension": ".py",
   "mimetype": "text/x-python",
   "name": "python",
   "nbconvert_exporter": "python",
   "pygments_lexer": "ipython3",
   "version": "3.8.8"
  }
 },
 "nbformat": 4,
 "nbformat_minor": 5
}
