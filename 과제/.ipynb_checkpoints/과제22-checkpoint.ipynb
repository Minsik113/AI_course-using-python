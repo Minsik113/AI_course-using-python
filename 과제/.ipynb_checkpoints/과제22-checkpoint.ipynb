{
 "cells": [
  {
   "cell_type": "markdown",
   "id": "463e4b7a",
   "metadata": {},
   "source": [
    "step1. 데이터 수집/전처리\n",
    "\n",
    "step2. 데이터 모델링(학습방법적용)\n",
    "\n",
    "step3. 평가/하이퍼파라미터 조정\n",
    "\n",
    "step4. 배포"
   ]
  },
  {
   "cell_type": "code",
   "execution_count": 2,
   "id": "2c162986",
   "metadata": {},
   "outputs": [],
   "source": [
    "import pandas as pd\n",
    "import matplotlib.pyplot as plt\n",
    "%matplotlib inline"
   ]
  },
  {
   "cell_type": "markdown",
   "id": "4d841c96",
   "metadata": {},
   "source": [
    "## Step1. Data Load, Preprocessing"
   ]
  },
  {
   "cell_type": "code",
   "execution_count": 3,
   "id": "c047d269",
   "metadata": {},
   "outputs": [
    {
     "name": "stdout",
     "output_type": "stream",
     "text": [
      "<class 'pandas.core.frame.DataFrame'>\n",
      "RangeIndex: 768 entries, 0 to 767\n",
      "Data columns (total 9 columns):\n",
      " #   Column                    Non-Null Count  Dtype  \n",
      "---  ------                    --------------  -----  \n",
      " 0   Pregnancies               768 non-null    int64  \n",
      " 1   Glucose                   768 non-null    int64  \n",
      " 2   BloodPressure             768 non-null    int64  \n",
      " 3   SkinThickness             768 non-null    int64  \n",
      " 4   Insulin                   768 non-null    int64  \n",
      " 5   BMI                       768 non-null    float64\n",
      " 6   DiabetesPedigreeFunction  768 non-null    float64\n",
      " 7   Age                       768 non-null    int64  \n",
      " 8   Outcome                   768 non-null    int64  \n",
      "dtypes: float64(2), int64(7)\n",
      "memory usage: 54.1 KB\n"
     ]
    }
   ],
   "source": [
    "diabetes_data = pd.read_csv('diabetes.csv')\n",
    "diabetes_data.info() # 768 rows, 9 colums"
   ]
  },
  {
   "cell_type": "markdown",
   "id": "6773eb94",
   "metadata": {},
   "source": [
    " -> NULL이 없음, 다 숫자네?, "
   ]
  },
  {
   "cell_type": "code",
   "execution_count": 4,
   "id": "a14616d5",
   "metadata": {},
   "outputs": [
    {
     "data": {
      "text/html": [
       "<div>\n",
       "<style scoped>\n",
       "    .dataframe tbody tr th:only-of-type {\n",
       "        vertical-align: middle;\n",
       "    }\n",
       "\n",
       "    .dataframe tbody tr th {\n",
       "        vertical-align: top;\n",
       "    }\n",
       "\n",
       "    .dataframe thead th {\n",
       "        text-align: right;\n",
       "    }\n",
       "</style>\n",
       "<table border=\"1\" class=\"dataframe\">\n",
       "  <thead>\n",
       "    <tr style=\"text-align: right;\">\n",
       "      <th></th>\n",
       "      <th>Pregnancies</th>\n",
       "      <th>Glucose</th>\n",
       "      <th>BloodPressure</th>\n",
       "      <th>SkinThickness</th>\n",
       "      <th>Insulin</th>\n",
       "      <th>BMI</th>\n",
       "      <th>DiabetesPedigreeFunction</th>\n",
       "      <th>Age</th>\n",
       "      <th>Outcome</th>\n",
       "    </tr>\n",
       "  </thead>\n",
       "  <tbody>\n",
       "    <tr>\n",
       "      <th>0</th>\n",
       "      <td>6</td>\n",
       "      <td>148</td>\n",
       "      <td>72</td>\n",
       "      <td>35</td>\n",
       "      <td>0</td>\n",
       "      <td>33.6</td>\n",
       "      <td>0.627</td>\n",
       "      <td>50</td>\n",
       "      <td>1</td>\n",
       "    </tr>\n",
       "    <tr>\n",
       "      <th>1</th>\n",
       "      <td>1</td>\n",
       "      <td>85</td>\n",
       "      <td>66</td>\n",
       "      <td>29</td>\n",
       "      <td>0</td>\n",
       "      <td>26.6</td>\n",
       "      <td>0.351</td>\n",
       "      <td>31</td>\n",
       "      <td>0</td>\n",
       "    </tr>\n",
       "    <tr>\n",
       "      <th>2</th>\n",
       "      <td>8</td>\n",
       "      <td>183</td>\n",
       "      <td>64</td>\n",
       "      <td>0</td>\n",
       "      <td>0</td>\n",
       "      <td>23.3</td>\n",
       "      <td>0.672</td>\n",
       "      <td>32</td>\n",
       "      <td>1</td>\n",
       "    </tr>\n",
       "    <tr>\n",
       "      <th>3</th>\n",
       "      <td>1</td>\n",
       "      <td>89</td>\n",
       "      <td>66</td>\n",
       "      <td>23</td>\n",
       "      <td>94</td>\n",
       "      <td>28.1</td>\n",
       "      <td>0.167</td>\n",
       "      <td>21</td>\n",
       "      <td>0</td>\n",
       "    </tr>\n",
       "    <tr>\n",
       "      <th>4</th>\n",
       "      <td>0</td>\n",
       "      <td>137</td>\n",
       "      <td>40</td>\n",
       "      <td>35</td>\n",
       "      <td>168</td>\n",
       "      <td>43.1</td>\n",
       "      <td>2.288</td>\n",
       "      <td>33</td>\n",
       "      <td>1</td>\n",
       "    </tr>\n",
       "    <tr>\n",
       "      <th>5</th>\n",
       "      <td>5</td>\n",
       "      <td>116</td>\n",
       "      <td>74</td>\n",
       "      <td>0</td>\n",
       "      <td>0</td>\n",
       "      <td>25.6</td>\n",
       "      <td>0.201</td>\n",
       "      <td>30</td>\n",
       "      <td>0</td>\n",
       "    </tr>\n",
       "  </tbody>\n",
       "</table>\n",
       "</div>"
      ],
      "text/plain": [
       "   Pregnancies  Glucose  BloodPressure  SkinThickness  Insulin   BMI  \\\n",
       "0            6      148             72             35        0  33.6   \n",
       "1            1       85             66             29        0  26.6   \n",
       "2            8      183             64              0        0  23.3   \n",
       "3            1       89             66             23       94  28.1   \n",
       "4            0      137             40             35      168  43.1   \n",
       "5            5      116             74              0        0  25.6   \n",
       "\n",
       "   DiabetesPedigreeFunction  Age  Outcome  \n",
       "0                     0.627   50        1  \n",
       "1                     0.351   31        0  \n",
       "2                     0.672   32        1  \n",
       "3                     0.167   21        0  \n",
       "4                     2.288   33        1  \n",
       "5                     0.201   30        0  "
      ]
     },
     "execution_count": 4,
     "metadata": {},
     "output_type": "execute_result"
    }
   ],
   "source": [
    "diabetes_data.head(6)"
   ]
  },
  {
   "cell_type": "code",
   "execution_count": 9,
   "id": "0ed63a84",
   "metadata": {},
   "outputs": [],
   "source": [
    "# diabetes_data['Pregnancies'].max()\n",
    "def check_value_range(colnames):\n",
    "    for colname in colnames:\n",
    "        print(colname,'의 최소값: ', diabetes_data[colname].min())\n",
    "        print(colname,'의 최소값: ', diabetes_data[colname].max())\n",
    "        print()"
   ]
  },
  {
   "cell_type": "code",
   "execution_count": 13,
   "id": "ca36f882",
   "metadata": {},
   "outputs": [
    {
     "name": "stdout",
     "output_type": "stream",
     "text": [
      "Pregnancies 의 최소값:  0\n",
      "Pregnancies 의 최소값:  17\n",
      "\n",
      "Glucose 의 최소값:  0\n",
      "Glucose 의 최소값:  199\n",
      "\n",
      "BloodPressure 의 최소값:  0\n",
      "BloodPressure 의 최소값:  122\n",
      "\n",
      "SkinThickness 의 최소값:  0\n",
      "SkinThickness 의 최소값:  99\n",
      "\n",
      "Insulin 의 최소값:  0\n",
      "Insulin 의 최소값:  846\n",
      "\n",
      "BMI 의 최소값:  0.0\n",
      "BMI 의 최소값:  67.1\n",
      "\n",
      "DiabetesPedigreeFunction 의 최소값:  0.078\n",
      "DiabetesPedigreeFunction 의 최소값:  2.42\n",
      "\n",
      "Age 의 최소값:  21\n",
      "Age 의 최소값:  81\n",
      "\n",
      "Outcome 의 최소값:  0\n",
      "Outcome 의 최소값:  1\n",
      "\n"
     ]
    }
   ],
   "source": [
    "check_value_range(diabetes_data.columns)"
   ]
  },
  {
   "cell_type": "markdown",
   "id": "e1c40f35",
   "metadata": {},
   "source": [
    " -> 최소값이 0 인것은 뭐지? 데이터 봐야할듯?\n",
    " "
   ]
  },
  {
   "cell_type": "code",
   "execution_count": 23,
   "id": "1b7bb73e",
   "metadata": {},
   "outputs": [
    {
     "name": "stdout",
     "output_type": "stream",
     "text": [
      "[1 0]\n",
      "\n",
      " 0    500\n",
      "1    268\n",
      "Name: Outcome, dtype: int64\n"
     ]
    }
   ],
   "source": [
    "print(diabetes_data['Outcome'].unique()) # 종류는 1 or 0\n",
    "print('\\n',diabetes_data['Outcome'].value_counts()) # 0: 500개 1:268개\n"
   ]
  },
  {
   "cell_type": "code",
   "execution_count": 14,
   "id": "cf2fc18f",
   "metadata": {},
   "outputs": [],
   "source": [
    "import numpy as np\n",
    "\n",
    "from sklearn.preprocessing import StandardScaler # 표준화\n",
    "from sklearn.model_selection import train_test_split # 데이터 분할\n",
    "from sklearn.linear_model import LogisticRegression # 모델링 알고리즘(분류)\n",
    "from sklearn.metrics import accuracy_score, precision_score, recall_score, roc_auc_score\n",
    "from sklearn.metrics import f1_score, confusion_matrix, precision_recall_curve, roc_curve\n",
    "# f1_score는 precision_score와 reacll_score의 조화평균이다. 둘이 비슷해야 높게나오고 아니면 낮겠지.\n"
   ]
  },
  {
   "cell_type": "code",
   "execution_count": 15,
   "id": "cc172300",
   "metadata": {},
   "outputs": [],
   "source": [
    "# iloc[a,b]  ->  position. \n",
    "X = diabetes_data.iloc[:,:-1] # 행, 마지역열 제외\n",
    "y = diabetes_data.iloc[:,-1] # 행, 맨마지막 열만 추출 -> 지도학습 적용하려고 label추출\n",
    "\n",
    "# classificaion문제라서 stratify=y 를 사용한다.\n",
    "X_train, X_test, y_train, y_test = train_test_split(X, y, test_size = 0.2, random_state = 156, stratify=y)\n"
   ]
  },
  {
   "cell_type": "code",
   "execution_count": 20,
   "id": "9bf4ecdc",
   "metadata": {},
   "outputs": [
    {
     "data": {
      "text/plain": [
       "0    400\n",
       "1    214\n",
       "Name: Outcome, dtype: int64"
      ]
     },
     "execution_count": 20,
     "metadata": {},
     "output_type": "execute_result"
    }
   ],
   "source": [
    "y_train.value_counts() # 0:400 65% , 1:214 35%"
   ]
  },
  {
   "cell_type": "code",
   "execution_count": 21,
   "id": "7c084ee4",
   "metadata": {},
   "outputs": [
    {
     "data": {
      "text/plain": [
       "0    100\n",
       "1     54\n",
       "Name: Outcome, dtype: int64"
      ]
     },
     "execution_count": 21,
     "metadata": {},
     "output_type": "execute_result"
    }
   ],
   "source": [
    "y_test.value_counts()"
   ]
  },
  {
   "cell_type": "code",
   "execution_count": null,
   "id": "6f11e76b",
   "metadata": {},
   "outputs": [],
   "source": []
  },
  {
   "cell_type": "code",
   "execution_count": null,
   "id": "7302bcec",
   "metadata": {},
   "outputs": [],
   "source": []
  },
  {
   "cell_type": "code",
   "execution_count": null,
   "id": "f2f672b7",
   "metadata": {},
   "outputs": [],
   "source": []
  },
  {
   "cell_type": "code",
   "execution_count": null,
   "id": "195e497c",
   "metadata": {},
   "outputs": [],
   "source": []
  },
  {
   "cell_type": "code",
   "execution_count": null,
   "id": "58d8647e",
   "metadata": {},
   "outputs": [],
   "source": []
  },
  {
   "cell_type": "code",
   "execution_count": null,
   "id": "255bd0d1",
   "metadata": {},
   "outputs": [],
   "source": []
  }
 ],
 "metadata": {
  "kernelspec": {
   "display_name": "Python 3",
   "language": "python",
   "name": "python3"
  },
  "language_info": {
   "codemirror_mode": {
    "name": "ipython",
    "version": 3
   },
   "file_extension": ".py",
   "mimetype": "text/x-python",
   "name": "python",
   "nbconvert_exporter": "python",
   "pygments_lexer": "ipython3",
   "version": "3.8.8"
  }
 },
 "nbformat": 4,
 "nbformat_minor": 5
}
